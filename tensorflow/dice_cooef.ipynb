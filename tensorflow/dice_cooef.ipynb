{
 "cells": [
  {
   "cell_type": "code",
   "execution_count": 4,
   "metadata": {},
   "outputs": [],
   "source": [
    "import tensorflow as tf\n",
    "from tensorflow.keras import backend as K\n",
    "import numpy as np"
   ]
  },
  {
   "cell_type": "code",
   "execution_count": 23,
   "metadata": {},
   "outputs": [],
   "source": [
    "def dice_coef(y_true, y_pred):    \n",
    "    smooth = 100    \n",
    "    y_true_f = K.flatten(y_true)\n",
    "    y_pred_f = K.flatten(y_pred)\n",
    "    intersection = K.abs(K.sum(y_true_f * y_pred_f))\n",
    "    dice = (2. * intersection + smooth) / (K.abs(K.sum(y_true_f)) + K.abs(K.sum(y_pred_f)) + smooth)\n",
    "    return dice"
   ]
  },
  {
   "cell_type": "markdown",
   "metadata": {},
   "source": [
    "<h1>Variable Thershold"
   ]
  },
  {
   "cell_type": "markdown",
   "metadata": {},
   "source": [
    "<h3>Functional Approach"
   ]
  },
  {
   "cell_type": "code",
   "execution_count": 16,
   "metadata": {},
   "outputs": [],
   "source": [
    "def dice_coef_func(smooth):\n",
    "    def dice_coef(y_true,y_pred):\n",
    "        y_true = K.flatten(y_true)\n",
    "        y_pred = K.flatten(y_pred)\n",
    "\n",
    "        intersection = K.abs(K.sum(y_true * y_pred))\n",
    "\n",
    "        dice = (2. * intersection + smooth) / (K.abs(K.sum(y_true)) + K.abs(K.sum(y_pred)) + smooth)\n",
    "\n",
    "        return dice\n",
    "    return dice_coef\n"
   ]
  },
  {
   "cell_type": "markdown",
   "metadata": {},
   "source": [
    "<h2>OOP Approach"
   ]
  },
  {
   "cell_type": "code",
   "execution_count": 19,
   "metadata": {},
   "outputs": [],
   "source": [
    "class dice_coef_oop(tf.keras.losses.Loss):\n",
    "\n",
    "    def __init__(self,smooth):\n",
    "        self.smooth = smooth\n",
    "\n",
    "    def call(self,y_true,y_pred):\n",
    "        self.y_true = y_true\n",
    "        self.y_pred = y_pred\n",
    "\n",
    "        intersection = K.abs(K.sum(y_true * y_pred))\n",
    "        dice = (2. * intersection + self.smooth) / (K.abs(K.sum(y_true)) + K.abs(K.sum(y_pred)) + self.smooth)\n",
    "\n",
    "        return dice"
   ]
  }
 ],
 "metadata": {
  "kernelspec": {
   "display_name": "Python 3",
   "language": "python",
   "name": "python3"
  },
  "language_info": {
   "codemirror_mode": {
    "name": "ipython",
    "version": 3
   },
   "file_extension": ".py",
   "mimetype": "text/x-python",
   "name": "python",
   "nbconvert_exporter": "python",
   "pygments_lexer": "ipython3",
   "version": "3.11.5"
  }
 },
 "nbformat": 4,
 "nbformat_minor": 2
}
