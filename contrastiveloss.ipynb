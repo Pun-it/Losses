{
 "cells": [
  {
   "cell_type": "code",
   "execution_count": 3,
   "metadata": {},
   "outputs": [],
   "source": [
    "import tensorflow as tf\n",
    "from tensorflow import keras\n",
    "from tensorflow.keras.losses import Loss"
   ]
  },
  {
   "cell_type": "markdown",
   "metadata": {},
   "source": [
    "<h2>Custom loss"
   ]
  },
  {
   "cell_type": "markdown",
   "metadata": {},
   "source": [
    "<h3>Simple one"
   ]
  },
  {
   "cell_type": "code",
   "execution_count": 4,
   "metadata": {},
   "outputs": [],
   "source": [
    "def contrastive_loss(y_true,y_pred):\n",
    "    margin = 0\n",
    "    square_pred = tf.square(y_pred)\n",
    "    sqare_margin = tf.square(tf.maximum(margin - y_pred,0))\n",
    "    return (y_true*square_pred + ((1-y_true)*sqare_margin))"
   ]
  },
  {
   "cell_type": "markdown",
   "metadata": {},
   "source": [
    "<h3>With margin"
   ]
  },
  {
   "cell_type": "code",
   "execution_count": 6,
   "metadata": {},
   "outputs": [],
   "source": [
    "def contrastive_loss_with_margin(margin):\n",
    "    def contrastive_loss_again(y_true,y_pred):\n",
    "        square_pred = tf.square(y_pred)\n",
    "        square_margin = tf.square(tf.maximum(margin-y_pred,0))\n",
    "        return (y_true*square_pred + ((1-y_true)*square_margin))\n",
    "    return contrastive_loss_again"
   ]
  },
  {
   "cell_type": "markdown",
   "metadata": {},
   "source": [
    "<h3>With OOP\n"
   ]
  },
  {
   "cell_type": "code",
   "execution_count": 7,
   "metadata": {},
   "outputs": [],
   "source": [
    "class ConstrastiveLoss(Loss):\n",
    "    margin = 0\n",
    "    def __init__(self,margin):\n",
    "        super().__init__()\n",
    "        self.margin = margin\n",
    "    \n",
    "    def call(self,y_true,y_pred):\n",
    "        square_pred = tf.square(y_pred)\n",
    "        square_margin = tf.square(tf.maximum(self.margin - y_pred),0)\n",
    "        return (y_true * square_pred + ((1-y_true)*square_margin))"
   ]
  }
 ],
 "metadata": {
  "kernelspec": {
   "display_name": "Python 3",
   "language": "python",
   "name": "python3"
  },
  "language_info": {
   "codemirror_mode": {
    "name": "ipython",
    "version": 3
   },
   "file_extension": ".py",
   "mimetype": "text/x-python",
   "name": "python",
   "nbconvert_exporter": "python",
   "pygments_lexer": "ipython3",
   "version": "3.11.5"
  }
 },
 "nbformat": 4,
 "nbformat_minor": 2
}
